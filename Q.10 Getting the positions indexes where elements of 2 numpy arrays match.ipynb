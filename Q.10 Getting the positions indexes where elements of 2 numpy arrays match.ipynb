{
 "cells": [
  {
   "cell_type": "markdown",
   "id": "72a799f6",
   "metadata": {},
   "source": [
    "### Q.10 Getting the positions (indexes) where elements of 2 numpy arrays match"
   ]
  },
  {
   "cell_type": "code",
   "execution_count": 2,
   "id": "69f13839",
   "metadata": {},
   "outputs": [],
   "source": [
    "import numpy as np"
   ]
  },
  {
   "cell_type": "code",
   "execution_count": 3,
   "id": "0a42696b",
   "metadata": {},
   "outputs": [],
   "source": [
    "arr1 = np.array([1,3,2,4,5])"
   ]
  },
  {
   "cell_type": "code",
   "execution_count": 7,
   "id": "cf7c3f57",
   "metadata": {},
   "outputs": [],
   "source": [
    "arr2 = np.array([1,2,3,4,5])"
   ]
  },
  {
   "cell_type": "code",
   "execution_count": 8,
   "id": "aba68fc2",
   "metadata": {},
   "outputs": [],
   "source": [
    "index = np.where(arr1 == arr2)"
   ]
  },
  {
   "cell_type": "code",
   "execution_count": 9,
   "id": "ffdc3961",
   "metadata": {},
   "outputs": [
    {
     "data": {
      "text/plain": [
       "(array([0, 1, 2, 3, 4], dtype=int64),)"
      ]
     },
     "execution_count": 9,
     "metadata": {},
     "output_type": "execute_result"
    }
   ],
   "source": [
    "index"
   ]
  },
  {
   "cell_type": "code",
   "execution_count": null,
   "id": "8b73d55e",
   "metadata": {},
   "outputs": [],
   "source": []
  }
 ],
 "metadata": {
  "kernelspec": {
   "display_name": "Python 3",
   "language": "python",
   "name": "python3"
  },
  "language_info": {
   "codemirror_mode": {
    "name": "ipython",
    "version": 3
   },
   "file_extension": ".py",
   "mimetype": "text/x-python",
   "name": "python",
   "nbconvert_exporter": "python",
   "pygments_lexer": "ipython3",
   "version": "3.8.8"
  }
 },
 "nbformat": 4,
 "nbformat_minor": 5
}
