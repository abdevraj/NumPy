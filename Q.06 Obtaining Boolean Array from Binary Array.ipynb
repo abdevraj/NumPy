{
 "cells": [
  {
   "cell_type": "markdown",
   "id": "79e06cf1",
   "metadata": {},
   "source": [
    "### Q.6 Obtaining Boolean Array from Binary Array"
   ]
  },
  {
   "cell_type": "code",
   "execution_count": 1,
   "id": "04e66746",
   "metadata": {},
   "outputs": [],
   "source": [
    "import numpy as np"
   ]
  },
  {
   "cell_type": "code",
   "execution_count": 2,
   "id": "c0a43874",
   "metadata": {},
   "outputs": [],
   "source": [
    "arr1 = np.array([[1,0,0], [0,1,1], [1,0,1]])"
   ]
  },
  {
   "cell_type": "code",
   "execution_count": 3,
   "id": "8f69d491",
   "metadata": {},
   "outputs": [],
   "source": [
    "bool_arr = arr1.astype('bool')"
   ]
  },
  {
   "cell_type": "code",
   "execution_count": 4,
   "id": "f0e7f296",
   "metadata": {},
   "outputs": [
    {
     "data": {
      "text/plain": [
       "array([[ True, False, False],\n",
       "       [False,  True,  True],\n",
       "       [ True, False,  True]])"
      ]
     },
     "execution_count": 4,
     "metadata": {},
     "output_type": "execute_result"
    }
   ],
   "source": [
    "bool_arr"
   ]
  },
  {
   "cell_type": "code",
   "execution_count": null,
   "id": "357a8a38",
   "metadata": {},
   "outputs": [],
   "source": []
  }
 ],
 "metadata": {
  "kernelspec": {
   "display_name": "Python 3",
   "language": "python",
   "name": "python3"
  },
  "language_info": {
   "codemirror_mode": {
    "name": "ipython",
    "version": 3
   },
   "file_extension": ".py",
   "mimetype": "text/x-python",
   "name": "python",
   "nbconvert_exporter": "python",
   "pygments_lexer": "ipython3",
   "version": "3.8.8"
  }
 },
 "nbformat": 4,
 "nbformat_minor": 5
}
