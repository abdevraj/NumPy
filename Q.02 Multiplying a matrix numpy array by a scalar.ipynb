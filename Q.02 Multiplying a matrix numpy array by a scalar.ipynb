{
 "cells": [
  {
   "cell_type": "markdown",
   "id": "39b5ebbf",
   "metadata": {},
   "source": [
    "#### Q.2 Multiplying a matrix (numpy array) by a scalar"
   ]
  },
  {
   "cell_type": "code",
   "execution_count": 1,
   "id": "0f7e978e",
   "metadata": {},
   "outputs": [],
   "source": [
    "import numpy as np"
   ]
  },
  {
   "cell_type": "code",
   "execution_count": 2,
   "id": "6a512cb5",
   "metadata": {},
   "outputs": [],
   "source": [
    "arr1 = np.array([[2,5,2], [6,3,2], [9,4,7]])"
   ]
  },
  {
   "cell_type": "code",
   "execution_count": 3,
   "id": "267c97c6",
   "metadata": {},
   "outputs": [],
   "source": [
    "scale_mult = 2*arr1"
   ]
  },
  {
   "cell_type": "code",
   "execution_count": 4,
   "id": "132a251a",
   "metadata": {},
   "outputs": [
    {
     "data": {
      "text/plain": [
       "array([[ 4, 10,  4],\n",
       "       [12,  6,  4],\n",
       "       [18,  8, 14]])"
      ]
     },
     "execution_count": 4,
     "metadata": {},
     "output_type": "execute_result"
    }
   ],
   "source": [
    "scale_mult"
   ]
  }
 ],
 "metadata": {
  "kernelspec": {
   "display_name": "Python 3",
   "language": "python",
   "name": "python3"
  },
  "language_info": {
   "codemirror_mode": {
    "name": "ipython",
    "version": 3
   },
   "file_extension": ".py",
   "mimetype": "text/x-python",
   "name": "python",
   "nbconvert_exporter": "python",
   "pygments_lexer": "ipython3",
   "version": "3.8.8"
  }
 },
 "nbformat": 4,
 "nbformat_minor": 5
}
