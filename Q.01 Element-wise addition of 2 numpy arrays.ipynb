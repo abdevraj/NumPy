{
 "cells": [
  {
   "cell_type": "markdown",
   "id": "d57a9952",
   "metadata": {},
   "source": [
    "#### Q.1 Element-wise addition of 2 numpy arrays"
   ]
  },
  {
   "cell_type": "code",
   "execution_count": 1,
   "id": "c2b6fda1",
   "metadata": {},
   "outputs": [],
   "source": [
    "import numpy as np"
   ]
  },
  {
   "cell_type": "code",
   "execution_count": 2,
   "id": "aa28f4c4",
   "metadata": {},
   "outputs": [],
   "source": [
    "arr1 = np.array([[2,5,2], [6,3,2], [9,4,7]])"
   ]
  },
  {
   "cell_type": "code",
   "execution_count": 3,
   "id": "fd72a506",
   "metadata": {},
   "outputs": [],
   "source": [
    "arr2 = np.array([[8,5,4], [7,3,1], [2,4,7]])"
   ]
  },
  {
   "cell_type": "code",
   "execution_count": 4,
   "id": "c3f05b27",
   "metadata": {},
   "outputs": [],
   "source": [
    "add_array = arr1 + arr2"
   ]
  },
  {
   "cell_type": "code",
   "execution_count": 5,
   "id": "028cf006",
   "metadata": {},
   "outputs": [
    {
     "data": {
      "text/plain": [
       "array([[10, 10,  6],\n",
       "       [13,  6,  3],\n",
       "       [11,  8, 14]])"
      ]
     },
     "execution_count": 5,
     "metadata": {},
     "output_type": "execute_result"
    }
   ],
   "source": [
    "add_array"
   ]
  }
 ],
 "metadata": {
  "kernelspec": {
   "display_name": "Python 3",
   "language": "python",
   "name": "python3"
  },
  "language_info": {
   "codemirror_mode": {
    "name": "ipython",
    "version": 3
   },
   "file_extension": ".py",
   "mimetype": "text/x-python",
   "name": "python",
   "nbconvert_exporter": "python",
   "pygments_lexer": "ipython3",
   "version": "3.8.8"
  }
 },
 "nbformat": 4,
 "nbformat_minor": 5
}
