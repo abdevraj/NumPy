{
 "cells": [
  {
   "cell_type": "markdown",
   "id": "c9f632f8",
   "metadata": {},
   "source": [
    "### Q.5 Array datatype conversion"
   ]
  },
  {
   "cell_type": "code",
   "execution_count": 1,
   "id": "8973de6f",
   "metadata": {},
   "outputs": [],
   "source": [
    "import numpy as np"
   ]
  },
  {
   "cell_type": "code",
   "execution_count": 2,
   "id": "5b9d87c2",
   "metadata": {},
   "outputs": [],
   "source": [
    "arr1 = np.array([[1.3,2.2,3.6,4.1], [4.2,3.5,2.1,1.8]])"
   ]
  },
  {
   "cell_type": "code",
   "execution_count": 3,
   "id": "4abd5b60",
   "metadata": {},
   "outputs": [
    {
     "data": {
      "text/plain": [
       "dtype('float64')"
      ]
     },
     "execution_count": 3,
     "metadata": {},
     "output_type": "execute_result"
    }
   ],
   "source": [
    "arr1.dtype"
   ]
  },
  {
   "cell_type": "code",
   "execution_count": 4,
   "id": "d85315ec",
   "metadata": {},
   "outputs": [],
   "source": [
    "change_type = arr1.astype('int')"
   ]
  },
  {
   "cell_type": "code",
   "execution_count": 5,
   "id": "caf61561",
   "metadata": {},
   "outputs": [
    {
     "data": {
      "text/plain": [
       "array([[1, 2, 3, 4],\n",
       "       [4, 3, 2, 1]])"
      ]
     },
     "execution_count": 5,
     "metadata": {},
     "output_type": "execute_result"
    }
   ],
   "source": [
    "change_type"
   ]
  },
  {
   "cell_type": "code",
   "execution_count": null,
   "id": "fa5790b0",
   "metadata": {},
   "outputs": [],
   "source": []
  }
 ],
 "metadata": {
  "kernelspec": {
   "display_name": "Python 3",
   "language": "python",
   "name": "python3"
  },
  "language_info": {
   "codemirror_mode": {
    "name": "ipython",
    "version": 3
   },
   "file_extension": ".py",
   "mimetype": "text/x-python",
   "name": "python",
   "nbconvert_exporter": "python",
   "pygments_lexer": "ipython3",
   "version": "3.8.8"
  }
 },
 "nbformat": 4,
 "nbformat_minor": 5
}
